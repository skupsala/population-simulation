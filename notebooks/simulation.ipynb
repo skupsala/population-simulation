{
 "cells": [
  {
   "cell_type": "markdown",
   "id": "41ebb207",
   "metadata": {},
   "source": [
    "# Simulation of the Finnish population development"
   ]
  },
  {
   "cell_type": "markdown",
   "id": "bd6e6d93",
   "metadata": {},
   "source": [
    "This project provides overly simplified simulation of the Finnish population development. This simulation is merely for fun."
   ]
  },
  {
   "cell_type": "markdown",
   "id": "18531dbd",
   "metadata": {},
   "source": [
    "## Data sources\n",
    "\n",
    "This simulation initializes itself with official data from [Statistics Finland](https://www.stat.fi/index_en.html).\n",
    "\n",
    "Initial population distribution of sexes and ages has been generated using following statistics using year 2020:  \n",
    "StatFin / Population / Population structure / 11rd -- Population according to age (1-year 0-112) and sex, 1972-2021  \n",
    "https://pxnet2.stat.fi/PXWeb/pxweb/en/StatFin/StatFin__vrm__vaerak/statfin_vaerak_pxt_11rd.px/chart/chartViewColumn/\n",
    "\n",
    "Lifetime simulation uses following statistics using year 2020:  \n",
    "StatFin / Population / Deaths / 12ap -- Life table by age and sex, 1986-2020  \n",
    "https://pxnet2.stat.fi/PXWeb/pxweb/en/StatFin/StatFin__vrm__kuol/statfin_kuol_pxt_12ap.px/chart/chartViewColumn/\n",
    "\n",
    "Birth rate simulation uses following statistics using year 2020:  \n",
    "StatFin / Population / Births / 12dm -- Live births by sex, birth order and age of mother (1-year), 1990-2020  \n",
    "https://pxnet2.stat.fi/PXWeb/pxweb/en/StatFin/StatFin__vrm__synt/statfin_synt_pxt_12dm.px/table/tableViewLayout1/"
   ]
  },
  {
   "cell_type": "markdown",
   "id": "954204a1",
   "metadata": {},
   "source": [
    "## A results sneak peek"
   ]
  },
  {
   "cell_type": "markdown",
   "id": "6560fd39",
   "metadata": {},
   "source": [
    "![Animated age by sex over simulations](../images/age_by_sex_distribution_animation.gif?q=2)"
   ]
  },
  {
   "cell_type": "markdown",
   "id": "e7e1e739",
   "metadata": {},
   "source": [
    "## Theory for the simulation"
   ]
  },
  {
   "cell_type": "markdown",
   "id": "2138ab56",
   "metadata": {},
   "source": [
    "Variables in the model:\n",
    "\n",
    "$$\n",
    "X_{i} = \\textrm{i:th individual in the population} \\newline\n",
    "X_{i,sex} = \\textrm{sex of the i:th individual} \\newline\n",
    "X_{i,age} = \\textrm{age of the i:th individual} \\newline\n",
    "T_{year} = \\textrm{simulation year}\n",
    "$$\n",
    "\n",
    "### Initial population\n",
    "\n",
    "Initial population population is generated based on age and sex distribution of the 2020 statistics. There is no randomness / sampling in the procedure to create initial population dataframe. Instead, number of people in each age and sex group is used as is.\n",
    "\n",
    "### Simulation of lifetime\n",
    "\n",
    "Lifetime simulation uses death risks by age and sex statistics from year 2020. This simulation **keeps death risk distribution same over simulation**:\n",
    "\n",
    "$$\n",
    "\\begin{align}\n",
    "P(X_i \\textrm{ dies}|T_{year}) & = P(X_i \\textrm{ dies}|X_{i,sex},X_{i,age},T_{year}=2020) \\newline & = P(X_i \\textrm{ dies}|X_{i,sex},X_{i,age})\n",
    "\\end{align}\n",
    "$$\n",
    "\n",
    "So death risk is modeled as a function (conditional probability) of sex and age of the individual.\n",
    "\n",
    "### Simulation of giving birth\n",
    "\n",
    "Giving birth simulation uses births by mother's age statistics from year 2020. This simulation **keeps birth distribution same over simulation**:\n",
    "\n",
    "$$\n",
    "\\begin{align}\n",
    "P(X_i \\textrm{ gives birth}|T_{year}) & = P(X_i \\textrm{ gives birth}|X_{i,sex}=1,X_{i,age},T_{year}=2020) \\newline\n",
    "& = P(X_i \\textrm{ gives birth}|X_{i,sex},X_{i,age})\n",
    "\\end{align}\n",
    "$$\n",
    "\n",
    "Trivially:\n",
    "\n",
    "$$\n",
    "P(X_i \\textrm{ gives birth}|X_{i,sex}=0) = 0\n",
    "$$\n",
    "\n",
    "So birth is modeled as a function (conditional probability) of sex and age of the individual.\n",
    "\n",
    "#### Simulation of the sex of a newborn baby\n",
    "\n",
    "Approximately half of the newborn babies are males and the other half are females. Actually, there are slightly more male newborn babies than female newborn babies. From the official statistics wee see that:\n",
    "\n",
    "$$\n",
    "P(\\textrm{Newborn baby is male}) = 0.511\n",
    "$$\n",
    "\n",
    "It is quite reasonable assumption that this probability does not change over time or does not depend on mother's age."
   ]
  },
  {
   "cell_type": "markdown",
   "id": "f03fa378",
   "metadata": {},
   "source": [
    "## Code / Implementation"
   ]
  },
  {
   "cell_type": "markdown",
   "id": "4b7e6fc6",
   "metadata": {},
   "source": [
    "### Dependencies"
   ]
  },
  {
   "cell_type": "code",
   "execution_count": 1,
   "id": "905be454",
   "metadata": {},
   "outputs": [],
   "source": [
    "import os\n",
    "import numpy as np\n",
    "import pandas as pd\n",
    "import imageio\n",
    "import seaborn as sns\n",
    "import matplotlib.pyplot as plt\n",
    "%matplotlib inline\n",
    "\n",
    "sns.set_theme()"
   ]
  },
  {
   "cell_type": "markdown",
   "id": "c06374c4",
   "metadata": {},
   "source": [
    "### Constants"
   ]
  },
  {
   "cell_type": "code",
   "execution_count": 40,
   "id": "f8e07b48",
   "metadata": {},
   "outputs": [],
   "source": [
    "class Cfg:\n",
    "    # 0 = male, 1 = female\n",
    "    SEXES = [0, 1] \n",
    "    MAX_AGE = 120\n",
    "    \n",
    "    DATA_DIR = os.path.join(os.pardir, 'data')\n",
    "    IMAGE_DIR = os.path.join(os.pardir, 'images')\n",
    "    \n",
    "    # If running this notebook can overwrite previous image results\n",
    "    OVERWRITE_IMAGES = True\n",
    "    \n",
    "    # Initial year (starting from). Should not be changed since we uses statistcs from year 2020.\n",
    "    INITIAL_YEAR = 2020\n",
    "    # End / Target year of the simulation. Should be greater than 2020.\n",
    "    # TODO put back 2080\n",
    "    TARGET_YEAR = 2022\n",
    "    \n",
    "    # Probability that single baby is male. Female probability is 1-MALE_BIRTH_PROBABILITY.\n",
    "    MALE_BIRTH_PROBABILITY = 0.511"
   ]
  },
  {
   "cell_type": "markdown",
   "id": "52da1f09",
   "metadata": {},
   "source": [
    "### Population by age and sex"
   ]
  },
  {
   "cell_type": "code",
   "execution_count": 3,
   "id": "47b1fe29",
   "metadata": {},
   "outputs": [
    {
     "data": {
      "text/html": [
       "<div>\n",
       "<style scoped>\n",
       "    .dataframe tbody tr th:only-of-type {\n",
       "        vertical-align: middle;\n",
       "    }\n",
       "\n",
       "    .dataframe tbody tr th {\n",
       "        vertical-align: top;\n",
       "    }\n",
       "\n",
       "    .dataframe thead th {\n",
       "        text-align: right;\n",
       "    }\n",
       "</style>\n",
       "<table border=\"1\" class=\"dataframe\">\n",
       "  <thead>\n",
       "    <tr style=\"text-align: right;\">\n",
       "      <th></th>\n",
       "      <th>age</th>\n",
       "      <th>population_count</th>\n",
       "      <th>sex</th>\n",
       "    </tr>\n",
       "  </thead>\n",
       "  <tbody>\n",
       "    <tr>\n",
       "      <th>0</th>\n",
       "      <td>0</td>\n",
       "      <td>23806</td>\n",
       "      <td>1</td>\n",
       "    </tr>\n",
       "    <tr>\n",
       "      <th>1</th>\n",
       "      <td>1</td>\n",
       "      <td>23459</td>\n",
       "      <td>1</td>\n",
       "    </tr>\n",
       "    <tr>\n",
       "      <th>2</th>\n",
       "      <td>2</td>\n",
       "      <td>25012</td>\n",
       "      <td>1</td>\n",
       "    </tr>\n",
       "    <tr>\n",
       "      <th>3</th>\n",
       "      <td>3</td>\n",
       "      <td>26298</td>\n",
       "      <td>1</td>\n",
       "    </tr>\n",
       "    <tr>\n",
       "      <th>4</th>\n",
       "      <td>4</td>\n",
       "      <td>27634</td>\n",
       "      <td>1</td>\n",
       "    </tr>\n",
       "  </tbody>\n",
       "</table>\n",
       "</div>"
      ],
      "text/plain": [
       "   age  population_count  sex\n",
       "0    0             23806    1\n",
       "1    1             23459    1\n",
       "2    2             25012    1\n",
       "3    3             26298    1\n",
       "4    4             27634    1"
      ]
     },
     "execution_count": 3,
     "metadata": {},
     "output_type": "execute_result"
    }
   ],
   "source": [
    "stats_population_df = pd.read_csv(os.path.join(Cfg.DATA_DIR, '004_11rd_2020_20220319-004320.csv'), encoding='iso-8859-1', skiprows=2, delimiter=\";\")\n",
    "\n",
    "def tilastokeskus_transform_population_dataframe(df):\n",
    "    df['sex'] = df['Sukupuoli'].apply(lambda x: 1 if x == 'Miehet' else 0)\n",
    "    df = df.rename(columns={'2020': 'population_count', 'Ikä': 'age'})\n",
    "    df = df.drop(df.columns.difference(['sex', 'population_count', 'age']), 1)\n",
    "    return df\n",
    "\n",
    "\n",
    "stats_population_df = tilastokeskus_transform_population_dataframe(stats_population_df)\n",
    "\n",
    "stats_population_df.head()"
   ]
  },
  {
   "cell_type": "code",
   "execution_count": 4,
   "id": "f7bb5184",
   "metadata": {},
   "outputs": [],
   "source": [
    "def plot_population_age_distributions_by_sex(df, year=None, aggregated=True, save_with_filename=None):\n",
    "    a4_dims = (15, 6)\n",
    "    fig, ax = plt.subplots(1, 2, figsize=a4_dims)\n",
    "    for a in ax:\n",
    "        a.set_ylim(top=45000)\n",
    "    if not aggregated:\n",
    "        df = df.groupby(['sex', 'age']).size().reset_index(name='population_count')\n",
    "    males = df[df['sex'] == 1]\n",
    "    females = df[df['sex'] == 0]\n",
    "    mp = sns.histplot(x=males['age'], weights=males['population_count'], binrange=(0, Cfg.MAX_AGE), binwidth=1, ax=ax[0])\n",
    "    mp.set_title(f\"Age distribution of males{' - {}'.format(year) if year else ''}\")\n",
    "    fp = sns.histplot(x=females['age'], weights=females['population_count'],  binrange=(0, Cfg.MAX_AGE), binwidth=1, ax=ax[1])\n",
    "    fp.set_title(f\"Age distribution of females{' - {}'.format(year) if year else ''}\")\n",
    "    \n",
    "    if save_with_filename:\n",
    "        filepath = os.path.join(Cfg.IMAGE_DIR, save_with_filename)\n",
    "        if os.path.exists(filepath) and not Cfg.OVERWRITE_IMAGES:\n",
    "            raise Exception(f\"Image {save_with_filename} already exists\")\n",
    "        plt.savefig(filepath)\n",
    "\n",
    "    fig.show()"
   ]
  },
  {
   "cell_type": "code",
   "execution_count": 5,
   "id": "167b2278",
   "metadata": {},
   "outputs": [
    {
     "data": {
      "image/png": "[encoded data removed]",
      "text/plain": [
       "<Figure size 1080x432 with 2 Axes>"
      ]
     },
     "metadata": {},
     "output_type": "display_data"
    }
   ],
   "source": [
    "plot_population_age_distributions_by_sex(stats_population_df, year=2020, save_with_filename=\"age_by_sex_distribution_2020.png\")"
   ]
  },
  {
   "cell_type": "markdown",
   "id": "e92d88d2",
   "metadata": {},
   "source": [
    "### Lifetime by age and sex"
   ]
  },
  {
   "cell_type": "code",
   "execution_count": 6,
   "id": "da6aa496",
   "metadata": {},
   "outputs": [
    {
     "data": {
      "text/html": [
       "<div>\n",
       "<style scoped>\n",
       "    .dataframe tbody tr th:only-of-type {\n",
       "        vertical-align: middle;\n",
       "    }\n",
       "\n",
       "    .dataframe tbody tr th {\n",
       "        vertical-align: top;\n",
       "    }\n",
       "\n",
       "    .dataframe thead th {\n",
       "        text-align: right;\n",
       "    }\n",
       "</style>\n",
       "<table border=\"1\" class=\"dataframe\">\n",
       "  <thead>\n",
       "    <tr style=\"text-align: right;\">\n",
       "      <th></th>\n",
       "      <th>age</th>\n",
       "      <th>dead_count</th>\n",
       "      <th>sex</th>\n",
       "    </tr>\n",
       "  </thead>\n",
       "  <tbody>\n",
       "    <tr>\n",
       "      <th>0</th>\n",
       "      <td>0</td>\n",
       "      <td>49</td>\n",
       "      <td>1</td>\n",
       "    </tr>\n",
       "    <tr>\n",
       "      <th>1</th>\n",
       "      <td>1</td>\n",
       "      <td>5</td>\n",
       "      <td>1</td>\n",
       "    </tr>\n",
       "    <tr>\n",
       "      <th>2</th>\n",
       "      <td>2</td>\n",
       "      <td>2</td>\n",
       "      <td>1</td>\n",
       "    </tr>\n",
       "    <tr>\n",
       "      <th>3</th>\n",
       "      <td>3</td>\n",
       "      <td>3</td>\n",
       "      <td>1</td>\n",
       "    </tr>\n",
       "    <tr>\n",
       "      <th>4</th>\n",
       "      <td>4</td>\n",
       "      <td>5</td>\n",
       "      <td>1</td>\n",
       "    </tr>\n",
       "  </tbody>\n",
       "</table>\n",
       "</div>"
      ],
      "text/plain": [
       "   age  dead_count  sex\n",
       "0    0          49    1\n",
       "1    1           5    1\n",
       "2    2           2    1\n",
       "3    3           3    1\n",
       "4    4           5    1"
      ]
     },
     "execution_count": 6,
     "metadata": {},
     "output_type": "execute_result"
    }
   ],
   "source": [
    "stats_lifetime_df = pd.read_csv(os.path.join(Cfg.DATA_DIR, '002_12ag_2020_20220318-232408.csv'), encoding='iso-8859-1', skiprows=2, delimiter=\";\")\n",
    "\n",
    "def tilastokeskus_transform_lifetime_dataframe(df):\n",
    "    df['sex'] = df['Sukupuoli'].apply(lambda x: 1 if x == 'Miehet' else 0)\n",
    "    df = df.rename(columns={'2020': 'dead_count', 'Ikä': 'age'})\n",
    "    df = df.drop(df.columns.difference(['sex', 'dead_count', 'age']), 1)\n",
    "    return df\n",
    "\n",
    "stats_lifetime_df = tilastokeskus_transform_lifetime_dataframe(stats_lifetime_df)\n",
    "\n",
    "stats_lifetime_df.head()"
   ]
  },
  {
   "cell_type": "code",
   "execution_count": 7,
   "id": "2cb70052",
   "metadata": {},
   "outputs": [],
   "source": [
    "def plot_lifetime_distributions_by_sex(df):\n",
    "    a4_dims = (15, 6)\n",
    "    fig, ax = plt.subplots(1, 2, figsize=a4_dims)\n",
    "    males = df[df['sex'] == 1]\n",
    "    females = df[df['sex'] == 0]\n",
    "    mp = sns.histplot(data=males, x=males['age'], weights=males['dead_count'], binwidth=1, ax=ax[0])\n",
    "    mp.set_title(\"Lifetime distribution of males\")\n",
    "    fp = sns.histplot(data=females, x=females['age'], weights=females['dead_count'], binwidth=1, ax=ax[1])\n",
    "    fp.set_title(\"Lifetime distribution of females\")\n",
    "    fig.show()"
   ]
  },
  {
   "cell_type": "code",
   "execution_count": 8,
   "id": "341ebd60",
   "metadata": {},
   "outputs": [
    {
     "data": {
      "image/png": "[encoded data removed]",
      "text/plain": [
       "<Figure size 1080x432 with 2 Axes>"
      ]
     },
     "metadata": {},
     "output_type": "display_data"
    }
   ],
   "source": [
    "plot_lifetime_distributions_by_sex(stats_lifetime_df)"
   ]
  },
  {
   "cell_type": "markdown",
   "id": "88a837b6",
   "metadata": {},
   "source": [
    "### Risk of death"
   ]
  },
  {
   "cell_type": "code",
   "execution_count": 9,
   "id": "e8e6453d",
   "metadata": {},
   "outputs": [
    {
     "data": {
      "text/html": [
       "<div>\n",
       "<style scoped>\n",
       "    .dataframe tbody tr th:only-of-type {\n",
       "        vertical-align: middle;\n",
       "    }\n",
       "\n",
       "    .dataframe tbody tr th {\n",
       "        vertical-align: top;\n",
       "    }\n",
       "\n",
       "    .dataframe thead th {\n",
       "        text-align: right;\n",
       "    }\n",
       "</style>\n",
       "<table border=\"1\" class=\"dataframe\">\n",
       "  <thead>\n",
       "    <tr style=\"text-align: right;\">\n",
       "      <th></th>\n",
       "      <th>age</th>\n",
       "      <th>death_probability</th>\n",
       "      <th>sex</th>\n",
       "    </tr>\n",
       "  </thead>\n",
       "  <tbody>\n",
       "    <tr>\n",
       "      <th>0</th>\n",
       "      <td>0</td>\n",
       "      <td>0.00206</td>\n",
       "      <td>1</td>\n",
       "    </tr>\n",
       "    <tr>\n",
       "      <th>1</th>\n",
       "      <td>1</td>\n",
       "      <td>0.00020</td>\n",
       "      <td>1</td>\n",
       "    </tr>\n",
       "    <tr>\n",
       "      <th>2</th>\n",
       "      <td>2</td>\n",
       "      <td>0.00008</td>\n",
       "      <td>1</td>\n",
       "    </tr>\n",
       "    <tr>\n",
       "      <th>3</th>\n",
       "      <td>3</td>\n",
       "      <td>0.00011</td>\n",
       "      <td>1</td>\n",
       "    </tr>\n",
       "    <tr>\n",
       "      <th>4</th>\n",
       "      <td>4</td>\n",
       "      <td>0.00018</td>\n",
       "      <td>1</td>\n",
       "    </tr>\n",
       "  </tbody>\n",
       "</table>\n",
       "</div>"
      ],
      "text/plain": [
       "   age  death_probability  sex\n",
       "0    0            0.00206    1\n",
       "1    1            0.00020    1\n",
       "2    2            0.00008    1\n",
       "3    3            0.00011    1\n",
       "4    4            0.00018    1"
      ]
     },
     "execution_count": 9,
     "metadata": {},
     "output_type": "execute_result"
    }
   ],
   "source": [
    "stats_death_risk_df = pd.read_csv(os.path.join(Cfg.DATA_DIR, '008_12ap_2020_20220321-001345.csv'), \n",
    "                                  encoding='iso-8859-1', skiprows=2, delimiter=\";\")\n",
    "\n",
    "def tilastokeskus_transform_deathrisk_dataframe(df):\n",
    "    df['sex'] = df['Sukupuoli'].apply(lambda x: 1 if x == 'Miehet' else 0)\n",
    "    df = df.rename(columns={'2020': 'death_probability', 'Ikä': 'age'})\n",
    "    df['death_probability'] = df['death_probability'].apply(pd.to_numeric, errors='coerce')\n",
    "    df['death_probability'] = df['death_probability'] / 1000\n",
    "    df = df.drop(df.columns.difference(['sex', 'death_probability', 'age']), 1)\n",
    "    df = df.dropna()\n",
    "    return df\n",
    "\n",
    "stats_death_risk_df = tilastokeskus_transform_deathrisk_dataframe(stats_death_risk_df)\n",
    "\n",
    "stats_death_risk_df.head()"
   ]
  },
  {
   "cell_type": "code",
   "execution_count": 10,
   "id": "4a9bedf3",
   "metadata": {},
   "outputs": [],
   "source": [
    "def plot_risk_of_death_distributions_by_sex(df):\n",
    "    a4_dims = (15, 6)\n",
    "    fig, ax = plt.subplots(1, 2, figsize=a4_dims)\n",
    "    males = df[df['sex'] == 1]\n",
    "    females = df[df['sex'] == 0]\n",
    "    mp = sns.histplot(x=males['age'], weights=males['death_probability'], binrange=(males['age'].min(), males['age'].max() + 1), binwidth=1, ax=ax[0])\n",
    "    mp.set_title(\"Death risk of males\")\n",
    "    ax[0].set(ylabel='probability')\n",
    "    fp = sns.histplot(x=females['age'], weights=females['death_probability'], binrange=(females['age'].min(), females['age'].max() + 1), binwidth=1, ax=ax[1])\n",
    "    fp.set_title(\"Death risk of females\")\n",
    "    ax[1].set(ylabel='probability')\n",
    "    fig.show()"
   ]
  },
  {
   "cell_type": "code",
   "execution_count": 11,
   "id": "c6d49089",
   "metadata": {},
   "outputs": [
    {
     "data": {
      "image/png": "[encoded data removed]",
      "text/plain": [
       "<Figure size 1080x432 with 2 Axes>"
      ]
     },
     "metadata": {},
     "output_type": "display_data"
    }
   ],
   "source": [
    "plot_risk_of_death_distributions_by_sex(stats_death_risk_df)"
   ]
  },
  {
   "cell_type": "code",
   "execution_count": 12,
   "id": "164c6475",
   "metadata": {},
   "outputs": [],
   "source": [
    "SEX_AGE_INDEX_GAP = 1000\n",
    "\n",
    "assert SEX_AGE_INDEX_GAP > Cfg.MAX_AGE\n",
    "\n",
    "# Sex and age to index value\n",
    "def get_sex_age_index_value(sex, age):\n",
    "    return sex * SEX_AGE_INDEX_GAP + age\n",
    "\n",
    "# Inverse for get_sex_age_index_value\n",
    "def sex_and_age_from_index_value(sex_age_index_value):\n",
    "    return (int(sex_age_index_value >= SEX_AGE_INDEX_GAP), sex_age_index_value % SEX_AGE_INDEX_GAP)\n",
    "\n",
    "\n",
    "death_probability_by_sex_and_age_index = {}\n",
    "death_probability_by_sex_and_age = {0: {}, 1: {}}\n",
    "for _, row in stats_death_risk_df.iterrows():\n",
    "    death_probability_by_sex_and_age[row['sex']][row['age']] = row['death_probability']\n",
    "\n",
    "# TODO this is simple prefill assuming death risk is constant after -> use increasing death risk\n",
    "for sex in Cfg.SEXES:\n",
    "    given_max_age = int(max(death_probability_by_sex_and_age[sex].keys()))\n",
    "    for age in range(given_max_age + 1, Cfg.MAX_AGE + 1):\n",
    "        death_probability_by_sex_and_age[sex][age] =  death_probability_by_sex_and_age[sex][given_max_age]\n",
    "    # Let's make sure that there is upper limit for the age\n",
    "    death_probability_by_sex_and_age[sex][Cfg.MAX_AGE] = 1\n",
    "\n",
    "for sex in death_probability_by_sex_and_age:\n",
    "    for age in death_probability_by_sex_and_age[sex]:\n",
    "        death_probability_by_sex_and_age_index[get_sex_age_index_value(sex, age)] = death_probability_by_sex_and_age[sex][age]"
   ]
  },
  {
   "cell_type": "markdown",
   "id": "b9dea60e",
   "metadata": {},
   "source": [
    "### Fertility"
   ]
  },
  {
   "cell_type": "code",
   "execution_count": 13,
   "id": "8e917aea",
   "metadata": {},
   "outputs": [
    {
     "data": {
      "text/html": [
       "<div>\n",
       "<style scoped>\n",
       "    .dataframe tbody tr th:only-of-type {\n",
       "        vertical-align: middle;\n",
       "    }\n",
       "\n",
       "    .dataframe tbody tr th {\n",
       "        vertical-align: top;\n",
       "    }\n",
       "\n",
       "    .dataframe thead th {\n",
       "        text-align: right;\n",
       "    }\n",
       "</style>\n",
       "<table border=\"1\" class=\"dataframe\">\n",
       "  <thead>\n",
       "    <tr style=\"text-align: right;\">\n",
       "      <th></th>\n",
       "      <th>mother_age</th>\n",
       "      <th>total_number_of_children_born</th>\n",
       "    </tr>\n",
       "  </thead>\n",
       "  <tbody>\n",
       "    <tr>\n",
       "      <th>0</th>\n",
       "      <td>14</td>\n",
       "      <td>3</td>\n",
       "    </tr>\n",
       "    <tr>\n",
       "      <th>1</th>\n",
       "      <td>15</td>\n",
       "      <td>9</td>\n",
       "    </tr>\n",
       "    <tr>\n",
       "      <th>2</th>\n",
       "      <td>16</td>\n",
       "      <td>28</td>\n",
       "    </tr>\n",
       "    <tr>\n",
       "      <th>3</th>\n",
       "      <td>17</td>\n",
       "      <td>59</td>\n",
       "    </tr>\n",
       "    <tr>\n",
       "      <th>4</th>\n",
       "      <td>18</td>\n",
       "      <td>162</td>\n",
       "    </tr>\n",
       "  </tbody>\n",
       "</table>\n",
       "</div>"
      ],
      "text/plain": [
       "   mother_age  total_number_of_children_born\n",
       "0          14                              3\n",
       "1          15                              9\n",
       "2          16                             28\n",
       "3          17                             59\n",
       "4          18                            162"
      ]
     },
     "execution_count": 13,
     "metadata": {},
     "output_type": "execute_result"
    }
   ],
   "source": [
    "stats_fertility_df = pd.read_csv(os.path.join(Cfg.DATA_DIR, '005_12dm_2020_20220318-232741.csv'), \n",
    "                                  encoding='iso-8859-1', skiprows=2, delimiter=\";\")\n",
    "\n",
    "def tilastokeskus_transform_fertility_dataframe(df):\n",
    "    def transform_mother_age(age_str):\n",
    "        \"\"\"\n",
    "        Here we make following simplifications:\n",
    "        If range given for mother age is like 0-14 then we simplify that all babies for those\n",
    "        mothers have age 14.\n",
    "        \n",
    "        If range given for mother age is like 55- then we simplify that all babies for those\n",
    "        mothers have age 55.\n",
    "        \n",
    "        This concludes that in this case ages 0-13 and 55+ have zero babies\n",
    "        \"\"\"\n",
    "        if age_str.isnumeric():\n",
    "            return int(age_str)\n",
    "        if '-' in age_str:\n",
    "            lowest_age_in_range_str = age_str.split('-')[0].strip()\n",
    "            biggest_age_in_range_str = age_str.split('-')[-1].strip()\n",
    "            if biggest_age_in_range_str:\n",
    "                return transform_mother_age(biggest_age_in_range_str)\n",
    "            elif lowest_age_in_range_str:\n",
    "                return transform_mother_age(lowest_age_in_range_str)\n",
    "        raise ValueError(f\"Cannot parse age out of {age_str}\")\n",
    "        \n",
    "    df['mother_age'] = df['Äidin ikä'].apply(transform_mother_age)\n",
    "    \n",
    "    df['total_number_of_children_born'] = df['Miehet Elävänä syntyneet'] + df['Naiset Elävänä syntyneet']\n",
    "    df = df.drop(df.columns.difference(['mother_age', 'total_number_of_children_born']), 1)\n",
    "    df = df.dropna()\n",
    "    return df\n",
    "\n",
    "stats_fertility_df = tilastokeskus_transform_fertility_dataframe(stats_fertility_df)\n",
    "\n",
    "stats_fertility_df.head()"
   ]
  },
  {
   "cell_type": "code",
   "execution_count": 14,
   "id": "988c69ab",
   "metadata": {},
   "outputs": [
    {
     "data": {
      "text/plain": [
       "46463"
      ]
     },
     "execution_count": 14,
     "metadata": {},
     "output_type": "execute_result"
    }
   ],
   "source": [
    "# Babies born in 2020\n",
    "stats_fertility_df['total_number_of_children_born'].sum()"
   ]
  },
  {
   "cell_type": "code",
   "execution_count": 15,
   "id": "c604f709",
   "metadata": {},
   "outputs": [],
   "source": [
    "birth_probability_by_age = {}\n",
    "for _, row in stats_fertility_df.iterrows():\n",
    "    population_count = stats_population_df[(stats_population_df['sex'] == 1) & (stats_population_df['age'] == row['mother_age'])]['population_count']\n",
    "    assert len(population_count) == 1\n",
    "    population_count = population_count.iloc[0]\n",
    "    birth_probability = row['total_number_of_children_born'] / population_count\n",
    "    birth_probability_by_age[row['mother_age']] = birth_probability\n",
    "\n",
    "for age in range(0, Cfg.MAX_AGE + 1):\n",
    "    if age not in birth_probability_by_age:\n",
    "        birth_probability_by_age[age] = 0"
   ]
  },
  {
   "cell_type": "markdown",
   "id": "fd8f29b2",
   "metadata": {},
   "source": [
    "### Initialize simulation population"
   ]
  },
  {
   "cell_type": "code",
   "execution_count": 28,
   "id": "f90dfc43",
   "metadata": {},
   "outputs": [
    {
     "data": {
      "text/plain": [
       "Series([], Name: death_year, dtype: int64)"
      ]
     },
     "execution_count": 28,
     "metadata": {},
     "output_type": "execute_result"
    }
   ],
   "source": [
    "# TODO move this to Cfg for customizability\n",
    "INITIAL_POPULATION_SIZE = stats_population_df['population_count'].sum()\n",
    "\n",
    "def create_initial_population(stats_population_df):\n",
    "    ages = np.zeros(INITIAL_POPULATION_SIZE, dtype=int)\n",
    "    sexes = np.zeros(INITIAL_POPULATION_SIZE, dtype=int)\n",
    "    # This is artificial index so that we can utilize vectorized operations for the dataframe (millions of rows are too slow without vectorization)\n",
    "    sex_age_index = np.zeros(INITIAL_POPULATION_SIZE, dtype=int)\n",
    "\n",
    "    start_idx = 0\n",
    "    for _, row in stats_population_df.iterrows():\n",
    "        end_idx = start_idx + row['population_count']\n",
    "        ages[start_idx:end_idx] = np.repeat(row['age'], row['population_count'])\n",
    "        sexes[start_idx:end_idx] = np.repeat(row['sex'], row['population_count'])\n",
    "        sex_age_index[start_idx:end_idx] = np.repeat(get_sex_age_index_value(row['sex'], row['age']), row['population_count'])\n",
    "        start_idx = end_idx\n",
    "\n",
    "    df = pd.DataFrame({'age': ages, 'sex': sexes, 'sex_age_index': sex_age_index})\n",
    "    dead_df = pd.DataFrame().reindex(columns=df.columns)\n",
    "    dead_df['death_year'] = pd.Series([], dtype=int)\n",
    "    \n",
    "    return df, dead_df\n",
    "\n",
    "\n",
    "df, dead_df = create_initial_population(stats_population_df)"
   ]
  },
  {
   "cell_type": "code",
   "execution_count": 17,
   "id": "41e2d00a",
   "metadata": {
    "scrolled": false
   },
   "outputs": [
    {
     "data": {
      "image/png": "[encoded data removed]",
      "text/plain": [
       "<Figure size 1080x432 with 2 Axes>"
      ]
     },
     "metadata": {},
     "output_type": "display_data"
    }
   ],
   "source": [
    "plot_population_age_distributions_by_sex(df, year=2020, aggregated=False)"
   ]
  },
  {
   "cell_type": "markdown",
   "id": "e3ddb18a",
   "metadata": {},
   "source": [
    "### Animation utils"
   ]
  },
  {
   "cell_type": "code",
   "execution_count": 18,
   "id": "9c111c14",
   "metadata": {},
   "outputs": [],
   "source": [
    "def animate_gif(filenames, output_filename, remove_original_images=False):\n",
    "    output_file = os.path.join(Cfg.IMAGE_DIR, output_filename)\n",
    "    if os.path.exists(output_filename) and not Cfg.OVERWRITE_IMAGES:\n",
    "        raise Exception(f\"Image {output_filename} already exists!\")\n",
    "    # build gif\n",
    "    filenames = [os.path.join(Cfg.IMAGE_DIR, filename) for filename in filenames]\n",
    "    with imageio.get_writer(output_file, mode='I') as writer:\n",
    "        for filename in filenames:\n",
    "            image = imageio.imread(filename)\n",
    "            writer.append_data(image)\n",
    "\n",
    "    # Remove original images\n",
    "    if remove_original_images:\n",
    "        for filename in set(filenames):\n",
    "            os.remove(filename)"
   ]
  },
  {
   "cell_type": "markdown",
   "id": "3bd942cc",
   "metadata": {},
   "source": [
    "## Simulation"
   ]
  },
  {
   "cell_type": "code",
   "execution_count": 37,
   "id": "1fed5492",
   "metadata": {},
   "outputs": [],
   "source": [
    "def simulate_one_year(df, dead_df, year):\n",
    "    df['random'] = np.random.random(len(df))\n",
    "    # Get conditional probability of death conditioned on sex\n",
    "    df['death_probability'] = df['sex_age_index'].map(lambda idx_value: death_probability_by_sex_and_age_index[idx_value])\n",
    "    dead = df.loc[df['random'] < df['death_probability'], :].copy()\n",
    "    dead['death_year'] = year\n",
    "    dead_df = dead_df.append(dead, ignore_index=True)\n",
    "    df.drop(dead.index, inplace=True)\n",
    "    # Update ages and related indexes and probabilities\n",
    "    df['age'] += 1\n",
    "    df['sex_age_index'] += 1\n",
    "    \n",
    "    # TODO there is no need to put this into df\n",
    "    df['random'] = np.random.random(len(df))\n",
    "    # Get conditional probability of giving birth conditioned on age\n",
    "    df['birth_probability'] = df.loc[df['sex'] == 1]['age'].apply(lambda age: birth_probability_by_age[age])\n",
    "    # Fill zero for males\n",
    "    df['birth_probability'] = df['birth_probability'].fillna(0)\n",
    "    newborn_count = len(df[df['random'] < df['birth_probability']])\n",
    "    \n",
    "    ages = np.zeros(newborn_count, dtype=int)\n",
    "    sexes = np.zeros(newborn_count, dtype=int)\n",
    "    sex_age_index = np.zeros(newborn_count, dtype=int)\n",
    "    newborn_females_index = round(newborn_count * Cfg.MALE_BIRTH_PROBABILITY)\n",
    "    sexes[newborn_females_index:] = 1\n",
    "    sex_age_index[:newborn_females_index] = get_sex_age_index_value(0, 0)\n",
    "    sex_age_index[newborn_females_index:] = get_sex_age_index_value(1, 0)\n",
    "\n",
    "    newborn_df = pd.DataFrame({'age': ages, 'sex': sexes, 'sex_age_index': sex_age_index})\n",
    "    # TODO this resets index - newborn_df index should be adjusted by starting from max+1 of the df index\n",
    "    df = pd.concat([df, newborn_df], ignore_index=True)\n",
    "    \n",
    "    return df, dead_df\n",
    "\n",
    "\n",
    "def simulate_until(target_year, df, dead_df):\n",
    "    results = {'population_development': {\n",
    "        Cfg.INITIAL_YEAR: {\n",
    "            'total': len(df),\n",
    "            'males': len(df[df['sex'] == 0]),\n",
    "            'females': len(df[df['sex'] == 1])\n",
    "        }\n",
    "    }}\n",
    "    for year in range(Cfg.INITIAL_YEAR + 1, target_year + 1):\n",
    "        # Set fixed seed for the year\n",
    "        np.random.seed(year)\n",
    "        df, dead_df = simulate_one_year(df, dead_df, year)\n",
    "        results['population_development'][year] = {\n",
    "            'total': len(df),\n",
    "            'males': len(df[df['sex'] == 0]),\n",
    "            'females': len(df[df['sex'] == 1])\n",
    "        }\n",
    "        plot_population_age_distributions_by_sex(df, year=year, aggregated=False, save_with_filename=f'age_by_sex_distribution_{year}.png')\n",
    "    return df, dead_df, results"
   ]
  },
  {
   "cell_type": "code",
   "execution_count": 41,
   "id": "28664d12",
   "metadata": {},
   "outputs": [],
   "source": [
    "# We do not show all intermediate graphs so let's not plot them\n",
    "%matplotlib agg\n",
    "\n",
    "plot_population_age_distributions_by_sex(stats_population_df, year=2020, save_with_filename=\"age_by_sex_distribution_2020.png\")\n",
    "\n",
    "assert Cfg.INITIAL_YEAR == 2020\n",
    "assert Cfg.TARGET_YEAR > Cfg.INITIAL_YEAR\n",
    "\n",
    "# Create initial population df and df for dead\n",
    "df, dead_df = create_initial_population(stats_population_df)\n",
    "\n",
    "# Run simulation\n",
    "df, dead_df, results = simulate_until(Cfg.TARGET_YEAR, df, dead_df)\n",
    "\n",
    "# Animate results\n",
    "animate_gif([f'age_by_sex_distribution_{year}.png' for year in range(Cfg.INITIAL_YEAR, Cfg.TARGET_YEAR + 1)], 'age_by_sex_distribution_animation.gif')\n",
    "\n",
    "# Put back inline plotting\n",
    "%matplotlib inline"
   ]
  },
  {
   "cell_type": "markdown",
   "id": "a8ceba40",
   "metadata": {},
   "source": [
    "### Results of the simulation\n",
    "\n",
    "![Animated age by sex over simulations](../images/age_by_sex_distribution_animation.gif?q=2)"
   ]
  },
  {
   "cell_type": "code",
   "execution_count": 21,
   "id": "350d2145",
   "metadata": {
    "scrolled": true
   },
   "outputs": [],
   "source": [
    "def plot_population_development(results):\n",
    "    data = results['population_development']\n",
    "    # TODO this is global I guess? If so move elsewhere\n",
    "    sns.set(rc={'figure.figsize':(15, 6)})\n",
    "    years = list(data.keys())\n",
    "    totals = [data[year]['total'] for year in data]\n",
    "    males = [data[year]['males'] for year in data]\n",
    "    females = [data[year]['females'] for year in data]\n",
    "    plot_df = pd.DataFrame({'year': years, 'total': totals, 'males': males, 'females': females})\n",
    "    g = sns.lineplot(data=pd.melt(plot_df, ['year']), x='year', y='value', hue='variable')\n",
    "    plt.xticks(years, rotation=45)\n",
    "    plt.ylim(0, 6e6)"
   ]
  },
  {
   "cell_type": "code",
   "execution_count": 22,
   "id": "944e60b7",
   "metadata": {},
   "outputs": [
    {
     "data": {
      "image/png": "[encoded data removed]",
      "text/plain": [
       "<Figure size 1080x432 with 1 Axes>"
      ]
     },
     "metadata": {},
     "output_type": "display_data"
    }
   ],
   "source": [
    "plot_population_development(results)"
   ]
  },
  {
   "cell_type": "code",
   "execution_count": 23,
   "id": "2a813085",
   "metadata": {},
   "outputs": [],
   "source": [
    "animate_gif([f'age_by_sex_distribution_{year}.png' for year in range(Cfg.INITIAL_YEAR, Cfg.TARGET_YEAR + 1)], 'age_by_sex_distribution_animation.gif')\n"
   ]
  }
 ],
 "metadata": {
  "kernelspec": {
   "display_name": "Python 3",
   "language": "python",
   "name": "python3"
  },
  "language_info": {
   "codemirror_mode": {
    "name": "ipython",
    "version": 3
   },
   "file_extension": ".py",
   "mimetype": "text/x-python",
   "name": "python",
   "nbconvert_exporter": "python",
   "pygments_lexer": "ipython3",
   "version": "3.6.9"
  }
 },
 "nbformat": 4,
 "nbformat_minor": 5
}
