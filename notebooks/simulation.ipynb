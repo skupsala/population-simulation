{
 "cells": [
  {
   "cell_type": "code",
   "execution_count": 1,
   "id": "a95f0cbf",
   "metadata": {},
   "outputs": [],
   "source": [
    "import numpy as np\n",
    "import pandas as pd\n",
    "import seaborn as sns"
   ]
  },
  {
   "cell_type": "code",
   "execution_count": 2,
   "id": "a553e88a",
   "metadata": {},
   "outputs": [],
   "source": [
    "INITIAL_POPULATION_SIZE = 10000"
   ]
  },
  {
   "cell_type": "markdown",
   "id": "d58f1df7",
   "metadata": {},
   "source": [
    "### Datan lähteet\n",
    "\n",
    "Väestön alustava sukupuoli ja ikäjakauma on generoitu seuraavan tilastokeskuksen tilaston perusteella:\\\n",
    "StatFin / Väestö / Väestörakenne / 11rd -- Väestö iän (1-v. 0-112) ja sukupuolen mukaan, 1972-2020 \\\n",
    "https://pxnet2.stat.fi/PXWeb/pxweb/fi/StatFin/StatFin__vrm__vaerak/statfin_vaerak_pxt_11rd.px/chart/chartViewColumn/\n",
    "ko. tilastosta on käytetty vuotta 2020\n",
    "\n",
    "Eliniän simuloinnissa on käytetty seuraavaa tilastokeskuksen tilastoa:\\\n",
    "StatFin / Väestö / Kuolleet / 12ag -- Kuolleet iän (1-v.) ja sukupuolen mukaan, 1980-2020\n",
    "https://pxnet2.stat.fi/PXWeb/pxweb/fi/StatFin/StatFin__vrm__kuol/statfin_kuol_pxt_12ag.px/chart/chartViewColumn/ \\\n",
    "ko. tilastosta on käytetty vuotta 2020\n",
    "\n",
    "Syntyvyyden simuloinnissa on käytetty seuraavaa tilastokeskuksen tilastoa:\\\n",
    "/ StatFin / Väestö / Syntyneet / 12dm -- Elävänä syntyneet sukupuolen, järjestysluvun ja äidin iän (1-v.) mukaan, 1990-2020 \\\n",
    "https://pxnet2.stat.fi/PXWeb/pxweb/fi/StatFin/StatFin__vrm__synt/statfin_synt_pxt_12dm.px/table/tableViewLayout1/ \\\n",
    "ko. tilastosta on käytetty vuotta 2020"
   ]
  }
 ],
 "metadata": {
  "kernelspec": {
   "display_name": "Python 3",
   "language": "python",
   "name": "python3"
  },
  "language_info": {
   "codemirror_mode": {
    "name": "ipython",
    "version": 3
   },
   "file_extension": ".py",
   "mimetype": "text/x-python",
   "name": "python",
   "nbconvert_exporter": "python",
   "pygments_lexer": "ipython3",
   "version": "3.6.9"
  }
 },
 "nbformat": 4,
 "nbformat_minor": 5
}
