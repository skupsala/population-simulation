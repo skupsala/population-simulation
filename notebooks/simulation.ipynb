{
 "cells": [
  {
   "cell_type": "code",
   "execution_count": 6,
   "id": "905be454",
   "metadata": {},
   "outputs": [],
   "source": [
    "import os\n",
    "import numpy as np\n",
    "import pandas as pd\n",
    "import seaborn as sns\n",
    "import matplotlib.pyplot as plt"
   ]
  },
  {
   "cell_type": "markdown",
   "id": "18531dbd",
   "metadata": {},
   "source": [
    "### Datan lähteet\n",
    "\n",
    "Väestön alustava sukupuoli ja ikäjakauma on generoitu seuraavan tilastokeskuksen tilaston perusteella:\\\n",
    "StatFin / Väestö / Väestörakenne / 11rd -- Väestö iän (1-v. 0-112) ja sukupuolen mukaan, 1972-2020 \\\n",
    "https://pxnet2.stat.fi/PXWeb/pxweb/fi/StatFin/StatFin__vrm__vaerak/statfin_vaerak_pxt_11rd.px/chart/chartViewColumn/\n",
    "ko. tilastosta on käytetty vuotta 2020\n",
    "\n",
    "Eliniän simuloinnissa on käytetty seuraavaa tilastokeskuksen tilastoa:\\\n",
    "StatFin / Väestö / Kuolleet / 12ag -- Kuolleet iän (1-v.) ja sukupuolen mukaan, 1980-2020\n",
    "https://pxnet2.stat.fi/PXWeb/pxweb/fi/StatFin/StatFin__vrm__kuol/statfin_kuol_pxt_12ag.px/chart/chartViewColumn/ \\\n",
    "ko. tilastosta on käytetty vuotta 2020\n",
    "\n",
    "Syntyvyyden simuloinnissa on käytetty seuraavaa tilastokeskuksen tilastoa:\\\n",
    "/ StatFin / Väestö / Syntyneet / 12dm -- Elävänä syntyneet sukupuolen, järjestysluvun ja äidin iän (1-v.) mukaan, 1990-2020 \\\n",
    "https://pxnet2.stat.fi/PXWeb/pxweb/fi/StatFin/StatFin__vrm__synt/statfin_synt_pxt_12dm.px/table/tableViewLayout1/ \\\n",
    "ko. tilastosta on käytetty vuotta 2020"
   ]
  },
  {
   "cell_type": "code",
   "execution_count": 55,
   "id": "47b1fe29",
   "metadata": {},
   "outputs": [
    {
     "data": {
      "text/html": [
       "<div>\n",
       "<style scoped>\n",
       "    .dataframe tbody tr th:only-of-type {\n",
       "        vertical-align: middle;\n",
       "    }\n",
       "\n",
       "    .dataframe tbody tr th {\n",
       "        vertical-align: top;\n",
       "    }\n",
       "\n",
       "    .dataframe thead th {\n",
       "        text-align: right;\n",
       "    }\n",
       "</style>\n",
       "<table border=\"1\" class=\"dataframe\">\n",
       "  <thead>\n",
       "    <tr style=\"text-align: right;\">\n",
       "      <th></th>\n",
       "      <th>age</th>\n",
       "      <th>population_count</th>\n",
       "      <th>sex</th>\n",
       "    </tr>\n",
       "  </thead>\n",
       "  <tbody>\n",
       "    <tr>\n",
       "      <th>0</th>\n",
       "      <td>0</td>\n",
       "      <td>23806</td>\n",
       "      <td>1</td>\n",
       "    </tr>\n",
       "    <tr>\n",
       "      <th>1</th>\n",
       "      <td>1</td>\n",
       "      <td>23459</td>\n",
       "      <td>1</td>\n",
       "    </tr>\n",
       "    <tr>\n",
       "      <th>2</th>\n",
       "      <td>2</td>\n",
       "      <td>25012</td>\n",
       "      <td>1</td>\n",
       "    </tr>\n",
       "    <tr>\n",
       "      <th>3</th>\n",
       "      <td>3</td>\n",
       "      <td>26298</td>\n",
       "      <td>1</td>\n",
       "    </tr>\n",
       "    <tr>\n",
       "      <th>4</th>\n",
       "      <td>4</td>\n",
       "      <td>27634</td>\n",
       "      <td>1</td>\n",
       "    </tr>\n",
       "    <tr>\n",
       "      <th>...</th>\n",
       "      <td>...</td>\n",
       "      <td>...</td>\n",
       "      <td>...</td>\n",
       "    </tr>\n",
       "    <tr>\n",
       "      <th>221</th>\n",
       "      <td>108</td>\n",
       "      <td>5</td>\n",
       "      <td>0</td>\n",
       "    </tr>\n",
       "    <tr>\n",
       "      <th>222</th>\n",
       "      <td>109</td>\n",
       "      <td>0</td>\n",
       "      <td>0</td>\n",
       "    </tr>\n",
       "    <tr>\n",
       "      <th>223</th>\n",
       "      <td>110</td>\n",
       "      <td>0</td>\n",
       "      <td>0</td>\n",
       "    </tr>\n",
       "    <tr>\n",
       "      <th>224</th>\n",
       "      <td>111</td>\n",
       "      <td>0</td>\n",
       "      <td>0</td>\n",
       "    </tr>\n",
       "    <tr>\n",
       "      <th>225</th>\n",
       "      <td>112</td>\n",
       "      <td>0</td>\n",
       "      <td>0</td>\n",
       "    </tr>\n",
       "  </tbody>\n",
       "</table>\n",
       "<p>226 rows × 3 columns</p>\n",
       "</div>"
      ],
      "text/plain": [
       "     age  population_count  sex\n",
       "0      0             23806    1\n",
       "1      1             23459    1\n",
       "2      2             25012    1\n",
       "3      3             26298    1\n",
       "4      4             27634    1\n",
       "..   ...               ...  ...\n",
       "221  108                 5    0\n",
       "222  109                 0    0\n",
       "223  110                 0    0\n",
       "224  111                 0    0\n",
       "225  112                 0    0\n",
       "\n",
       "[226 rows x 3 columns]"
      ]
     },
     "execution_count": 55,
     "metadata": {},
     "output_type": "execute_result"
    }
   ],
   "source": [
    "population_stats_df = pd.read_csv(os.path.join(os.pardir, 'data', '004_11rd_2020_20220319-004320.csv'), encoding='iso-8859-1', skiprows=2, delimiter=\";\")\n",
    "def tilastokeskus_transform_dataframe(df):\n",
    "    df['sex'] = df['Sukupuoli'].apply(lambda x: 1 if x == 'Miehet' else 0)\n",
    "    df.rename(columns={'2020': 'population_count', 'Ikä': 'age'}, inplace=True)\n",
    "    df.drop(df.columns.difference(['sex', 'population_count', 'age']), 1, inplace=True)\n",
    "    return df\n",
    "tilastokeskus_transform_dataframe(population_stats_df)"
   ]
  },
  {
   "cell_type": "code",
   "execution_count": 56,
   "id": "167b2278",
   "metadata": {},
   "outputs": [
    {
     "data": {
      "image/png": "[encoded data removed]",
      "text/plain": [
       "<Figure size 1080x432 with 2 Axes>"
      ]
     },
     "metadata": {
      "needs_background": "light"
     },
     "output_type": "display_data"
    }
   ],
   "source": [
    "def plot_population_age_distributions_by_sex(df):\n",
    "    a4_dims = (15, 6)\n",
    "    fig, ax = plt.subplots(1, 2, figsize=a4_dims)\n",
    "    males = df[df['sex'] == 1]\n",
    "    females = df[df['sex'] == 0]\n",
    "    mp = sns.histplot(data=males, x=males['age'], weights=males['population_count'], bins=len(males['age']), ax=ax[0])\n",
    "    mp.set_title(\"Miesten ikäjakauma\")\n",
    "    fp = sns.histplot(data=females, x=females['age'], weights=females['population_count'], bins=len(females['age']), ax=ax[1])\n",
    "    fp.set_title(\"Naisten ikäjakauma\")\n",
    "    fig.show()\n",
    "plot_population_age_distributions_by_sex(population_stats_df)"
   ]
  },
  {
   "cell_type": "code",
   "execution_count": 112,
   "id": "f90dfc43",
   "metadata": {},
   "outputs": [],
   "source": [
    "INITIAL_POPULATION_SIZE = population_stats_df['population_count'].sum()\n",
    "ages = np.zeros(INITIAL_POPULATION_SIZE, dtype=int)\n",
    "sexes = np.zeros(INITIAL_POPULATION_SIZE, dtype=int)\n",
    "\n",
    "start_idx = 0\n",
    "for _, row in population_stats_df.iterrows():\n",
    "    end_idx = start_idx + row['population_count']\n",
    "    ages[start_idx:end_idx] = np.repeat(row['age'], row['population_count'])\n",
    "    sexes[start_idx:end_idx] = np.repeat(row['sex'], row['population_count'])\n",
    "    start_idx = end_idx\n",
    "\n",
    "population_df = pd.DataFrame({'age': ages, 'sex': sexes})"
   ]
  }
 ],
 "metadata": {
  "kernelspec": {
   "display_name": "Python 3",
   "language": "python",
   "name": "python3"
  },
  "language_info": {
   "codemirror_mode": {
    "name": "ipython",
    "version": 3
   },
   "file_extension": ".py",
   "mimetype": "text/x-python",
   "name": "python",
   "nbconvert_exporter": "python",
   "pygments_lexer": "ipython3",
   "version": "3.6.9"
  }
 },
 "nbformat": 4,
 "nbformat_minor": 5
}
